{
 "cells": [
  {
   "cell_type": "code",
   "execution_count": 1,
   "metadata": {},
   "outputs": [],
   "source": [
    "import pandas as pd\n",
    "import numpy as np\n",
    "import matplotlib.pyplot as plt\n",
    "%matplotlib inline"
   ]
  },
  {
   "cell_type": "code",
   "execution_count": 2,
   "metadata": {},
   "outputs": [],
   "source": [
    "from roughsr2 import find_resistance, find_support"
   ]
  },
  {
   "cell_type": "code",
   "execution_count": 3,
   "metadata": {},
   "outputs": [],
   "source": [
    "crsp = pd.read_csv('CRSP.csv')"
   ]
  },
  {
   "cell_type": "code",
   "execution_count": 4,
   "metadata": {},
   "outputs": [
    {
     "data": {
      "text/html": [
       "<div>\n",
       "<style scoped>\n",
       "    .dataframe tbody tr th:only-of-type {\n",
       "        vertical-align: middle;\n",
       "    }\n",
       "\n",
       "    .dataframe tbody tr th {\n",
       "        vertical-align: top;\n",
       "    }\n",
       "\n",
       "    .dataframe thead th {\n",
       "        text-align: right;\n",
       "    }\n",
       "</style>\n",
       "<table border=\"1\" class=\"dataframe\">\n",
       "  <thead>\n",
       "    <tr style=\"text-align: right;\">\n",
       "      <th></th>\n",
       "      <th>Date</th>\n",
       "      <th>Open</th>\n",
       "      <th>High</th>\n",
       "      <th>Low</th>\n",
       "      <th>Close</th>\n",
       "      <th>Adj Close</th>\n",
       "      <th>Volume</th>\n",
       "    </tr>\n",
       "  </thead>\n",
       "  <tbody>\n",
       "    <tr>\n",
       "      <th>0</th>\n",
       "      <td>2017-11-02</td>\n",
       "      <td>18.559999</td>\n",
       "      <td>18.740000</td>\n",
       "      <td>18.010000</td>\n",
       "      <td>18.670000</td>\n",
       "      <td>18.670000</td>\n",
       "      <td>120600</td>\n",
       "    </tr>\n",
       "    <tr>\n",
       "      <th>1</th>\n",
       "      <td>2017-11-03</td>\n",
       "      <td>18.900000</td>\n",
       "      <td>19.344999</td>\n",
       "      <td>18.850000</td>\n",
       "      <td>19.049999</td>\n",
       "      <td>19.049999</td>\n",
       "      <td>258600</td>\n",
       "    </tr>\n",
       "    <tr>\n",
       "      <th>2</th>\n",
       "      <td>2017-11-06</td>\n",
       "      <td>19.219999</td>\n",
       "      <td>19.230000</td>\n",
       "      <td>18.650000</td>\n",
       "      <td>18.910000</td>\n",
       "      <td>18.910000</td>\n",
       "      <td>239500</td>\n",
       "    </tr>\n",
       "    <tr>\n",
       "      <th>3</th>\n",
       "      <td>2017-11-07</td>\n",
       "      <td>18.870001</td>\n",
       "      <td>18.870001</td>\n",
       "      <td>18.000000</td>\n",
       "      <td>18.129999</td>\n",
       "      <td>18.129999</td>\n",
       "      <td>238700</td>\n",
       "    </tr>\n",
       "    <tr>\n",
       "      <th>4</th>\n",
       "      <td>2017-11-08</td>\n",
       "      <td>18.020000</td>\n",
       "      <td>18.350000</td>\n",
       "      <td>17.530001</td>\n",
       "      <td>17.940001</td>\n",
       "      <td>17.940001</td>\n",
       "      <td>182900</td>\n",
       "    </tr>\n",
       "  </tbody>\n",
       "</table>\n",
       "</div>"
      ],
      "text/plain": [
       "         Date       Open       High        Low      Close  Adj Close  Volume\n",
       "0  2017-11-02  18.559999  18.740000  18.010000  18.670000  18.670000  120600\n",
       "1  2017-11-03  18.900000  19.344999  18.850000  19.049999  19.049999  258600\n",
       "2  2017-11-06  19.219999  19.230000  18.650000  18.910000  18.910000  239500\n",
       "3  2017-11-07  18.870001  18.870001  18.000000  18.129999  18.129999  238700\n",
       "4  2017-11-08  18.020000  18.350000  17.530001  17.940001  17.940001  182900"
      ]
     },
     "execution_count": 4,
     "metadata": {},
     "output_type": "execute_result"
    }
   ],
   "source": [
    "crsp.head()"
   ]
  },
  {
   "cell_type": "code",
   "execution_count": 5,
   "metadata": {},
   "outputs": [],
   "source": [
    "crsp = crsp['Adj Close']\n",
    "crsp.columns = ['price']"
   ]
  },
  {
   "cell_type": "code",
   "execution_count": 7,
   "metadata": {},
   "outputs": [
    {
     "data": {
      "text/plain": [
       "0    19.325333\n",
       "1    39.125000\n",
       "2    49.848571\n",
       "3    52.002917\n",
       "4    56.334285\n",
       "5    65.010000\n",
       "Name: resistance, dtype: float64"
      ]
     },
     "execution_count": 7,
     "metadata": {},
     "output_type": "execute_result"
    }
   ],
   "source": [
    "find_resistance(crsp)"
   ]
  },
  {
   "cell_type": "code",
   "execution_count": 8,
   "metadata": {},
   "outputs": [],
   "source": [
    "crsp = pd.DataFrame(crsp)\n",
    "crsp['R1'] = 56.3"
   ]
  },
  {
   "cell_type": "code",
   "execution_count": 9,
   "metadata": {},
   "outputs": [
    {
     "data": {
      "text/plain": [
       "<matplotlib.axes._subplots.AxesSubplot at 0x274627eb2e8>"
      ]
     },
     "execution_count": 9,
     "metadata": {},
     "output_type": "execute_result"
    },
    {
     "data": {
      "image/png": "[encoded data removed]",
      "text/plain": [
       "<Figure size 432x288 with 1 Axes>"
      ]
     },
     "metadata": {
      "needs_background": "light"
     },
     "output_type": "display_data"
    }
   ],
   "source": [
    "crsp.plot()"
   ]
  },
  {
   "cell_type": "code",
   "execution_count": null,
   "metadata": {},
   "outputs": [],
   "source": []
  }
 ],
 "metadata": {
  "kernelspec": {
   "display_name": "Python 3",
   "language": "python",
   "name": "python3"
  },
  "language_info": {
   "codemirror_mode": {
    "name": "ipython",
    "version": 3
   },
   "file_extension": ".py",
   "mimetype": "text/x-python",
   "name": "python",
   "nbconvert_exporter": "python",
   "pygments_lexer": "ipython3",
   "version": "3.6.6"
  }
 },
 "nbformat": 4,
 "nbformat_minor": 2
}
